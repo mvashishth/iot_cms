{
 "cells": [
  {
   "cell_type": "code",
   "execution_count": 1,
   "metadata": {},
   "outputs": [],
   "source": [
    "#importing necessary libraries\n",
    "import requests \n",
    "import random\n",
    "import time\n",
    "import numpy as np\n",
    "import matplotlib.pyplot as plt\n",
    "# api-endpoint \n",
    "URL = \"https://iotcms.herokuapp.com/get_data\"\n",
    "#URL = \"http://localhost:8000/get_data\"\n",
    "import pandas as pd\n",
    "import math\n",
    "from scipy.fftpack import fft\n"
   ]
  },
  {
   "cell_type": "code",
   "execution_count": 2,
   "metadata": {},
   "outputs": [],
   "source": [
    "#destination files to retrieve dummy data from for test purposes\n",
    "acc1_ub_2=pd.read_csv(\"23-april/g2/file_time_1.259323_creation_date_2019-04-23 11:46:47.523529.csv\")\n",
    "acc2_ub_2=pd.read_csv(\"23-april/ub2/file_time_1.26644_creation_date_2019-04-23 12:04:57.862677.csv\")\n",
    "\n",
    "acc1_ub_2['X'], acc1_ub_2['Y'],acc1_ub_2['Z'], acc1_ub_2['I'] = zip(*acc1_ub_2['0'].map(lambda x: x.split(' ')))\n",
    "acc2_ub_2['X'], acc2_ub_2['Y'],acc2_ub_2['Z'], acc2_ub_2['I'] = zip(*acc2_ub_2['0'].map(lambda x: x.split(' ')))\n"
   ]
  },
  {
   "cell_type": "code",
   "execution_count": 3,
   "metadata": {},
   "outputs": [],
   "source": [
    "#converting data to float\n",
    "acc1_ub_2['X'] = acc1_ub_2['X'].astype(float).fillna(0.0)\n",
    "acc1_ub_2['Y'] = acc1_ub_2['Y'].astype(float).fillna(0.0)\n",
    "acc1_ub_2['Z'] = acc1_ub_2['Z'].astype(float).fillna(0.0)\n",
    "acc1_ub_2['I'] = acc1_ub_2['I'].astype(float).fillna(0.0)\n"
   ]
  },
  {
   "cell_type": "code",
   "execution_count": 4,
   "metadata": {},
   "outputs": [],
   "source": [
    "acc2_ub_2['X'] = acc2_ub_2['X'].astype(float).fillna(0.0)\n",
    "acc2_ub_2['Y'] = acc2_ub_2['Y'].astype(float).fillna(0.0)\n",
    "acc2_ub_2['Z'] = acc2_ub_2['Z'].astype(float).fillna(0.0)\n",
    "acc2_ub_2['I'] = acc2_ub_2['I'].astype(float).fillna(0.0)\n"
   ]
  },
  {
   "cell_type": "code",
   "execution_count": 5,
   "metadata": {},
   "outputs": [],
   "source": [
    "#Root Mean Square calculation\n",
    "acc1_ub_2_x_rms= float(\"{0:.2f}\".format(np.sqrt(np.mean(np.square(acc1_ub_2['X'])))))\n",
    "acc1_ub_2_y_rms= float(\"{0:.2f}\".format(np.sqrt(np.mean(np.square(acc1_ub_2['Y'])))))\n",
    "acc1_ub_2_z_rms= float(\"{0:.2f}\".format(np.sqrt(np.mean(np.square(acc1_ub_2['Z'])))))\n",
    "acc1_ub_2_i_rms= float(\"{0:.2f}\".format(np.sqrt(np.mean(np.square(acc1_ub_2['I'])))))\n",
    "\n",
    "acc2_ub_2_x_rms= float(\"{0:.2f}\".format(np.sqrt(np.mean(np.square(acc2_ub_2['X'])))))\n",
    "acc2_ub_2_y_rms= float(\"{0:.2f}\".format(np.sqrt(np.mean(np.square(acc2_ub_2['Y'])))))\n",
    "acc2_ub_2_z_rms= float(\"{0:.2f}\".format(np.sqrt(np.mean(np.square(acc2_ub_2['Z'])))))\n",
    "acc2_ub_2_i_rms= float(\"{0:.2f}\".format(np.sqrt(np.mean(np.square(acc2_ub_2['I'])))))"
   ]
  },
  {
   "cell_type": "code",
   "execution_count": 6,
   "metadata": {},
   "outputs": [],
   "source": [
    "#Absolute Maximum calculation\n",
    "acc1_ub_2_x_max= np.max(abs(acc1_ub_2['X']))\n",
    "acc1_ub_2_y_max= np.max(abs(acc1_ub_2['Y']))\n",
    "acc1_ub_2_z_max= np.max(abs(acc1_ub_2['Z']))\n",
    "acc1_ub_2_i_max= np.max(abs(acc1_ub_2['I']))\n",
    "\n",
    "acc2_ub_2_x_max= np.max(abs(acc2_ub_2['X']))\n",
    "acc2_ub_2_y_max= np.max(abs(acc2_ub_2['Y']))\n",
    "acc2_ub_2_z_max= np.max(abs(acc2_ub_2['Z']))\n",
    "acc2_ub_2_i_max= np.max(abs(acc2_ub_2['I']))\n",
    "\n",
    "\n",
    "y_axis=np.arange(300)\n",
    "y_axis=y_axis.tolist()\n",
    "\n"
   ]
  },
  {
   "cell_type": "code",
   "execution_count": null,
   "metadata": {},
   "outputs": [
    {
     "name": "stdout",
     "output_type": "stream",
     "text": [
      "done\n",
      "1\n",
      "done\n",
      "2\n",
      "done\n",
      "3\n",
      "done\n",
      "4\n",
      "done\n",
      "5\n",
      "done\n",
      "6\n",
      "done\n",
      "7\n",
      "done\n",
      "8\n",
      "done\n",
      "9\n",
      "done\n",
      "10\n",
      "done\n",
      "11\n",
      "done\n",
      "12\n",
      "done\n",
      "13\n",
      "done\n",
      "14\n",
      "done\n",
      "15\n",
      "done\n",
      "16\n"
     ]
    }
   ],
   "source": [
    "#while loop that sends data to api-endpoint every five seconds after doinf Fast Fourier Transform on the vibrations data\n",
    "i=0\n",
    "while 1>0:\n",
    "    if i%2==0:\n",
    "        x_read=abs(fft(acc1_ub_2['X'])).tolist()\n",
    "        y_read=abs(fft(acc1_ub_2['Y'])).tolist()\n",
    "        z_read=abs(fft(acc1_ub_2['Z'])).tolist()\n",
    "        \n",
    "        x_rms=acc1_ub_2_x_rms\n",
    "        y_rms=acc1_ub_2_y_rms\n",
    "        z_rms=acc1_ub_2_z_rms\n",
    "        \n",
    "        x_max=acc1_ub_2_x_max\n",
    "        y_max=acc1_ub_2_y_max\n",
    "        z_max=acc1_ub_2_z_max\n",
    "        \n",
    "        std_x= float(\"{0:.2f}\".format(np.std(acc1_ub_2['X'])))\n",
    "        std_y= float(\"{0:.2f}\".format(np.std(acc1_ub_2['Y'])))\n",
    "        std_z= float(\"{0:.2f}\".format(np.std(acc1_ub_2['Z'])))\n",
    "    else:\n",
    "        x_read=abs(fft(acc2_ub_2['X'])).tolist()\n",
    "        y_read=abs(fft(acc2_ub_2['Y'])).tolist()\n",
    "        z_read=abs(fft(acc2_ub_2['Z'])).tolist()\n",
    "        \n",
    "        x_rms=acc2_ub_2_x_rms\n",
    "        y_rms=acc2_ub_2_y_rms\n",
    "        z_rms=acc2_ub_2_z_rms\n",
    "        \n",
    "        x_max=acc2_ub_2_x_max\n",
    "        y_max=acc2_ub_2_y_max\n",
    "        z_max=acc2_ub_2_z_max\n",
    "        \n",
    "        std_x= float(\"{0:.2f}\".format(np.std(acc2_ub_2['X'])))\n",
    "        std_y= float(\"{0:.2f}\".format(np.std(acc2_ub_2['Y'])))\n",
    "        std_z= float(\"{0:.2f}\".format(np.std(acc2_ub_2['Z'])))\n",
    "        \n",
    "        \n",
    "    i=i+1\n",
    "\n",
    "    PARAMS = {'x_max':x_max,'y_max':y_max,'z_max':z_max,'x_rms':x_rms,\n",
    "              'y_rms':y_rms,'z_rms':z_rms,'x_read':x_read,'y_read':y_read,'z_read':z_read,'y_axis':y_axis,\n",
    "              'std_x':std_x,'std_y':std_y,'std_z':std_z} \n",
    "    r = requests.post(url = URL, json = PARAMS)\n",
    "    \n",
    "    print(\"done\")\n",
    "    print(i)\n",
    "    time.sleep(5)"
   ]
  },
  {
   "cell_type": "code",
   "execution_count": null,
   "metadata": {},
   "outputs": [],
   "source": []
  }
 ],
 "metadata": {
  "kernelspec": {
   "display_name": "Python 3",
   "language": "python",
   "name": "python3"
  },
  "language_info": {
   "codemirror_mode": {
    "name": "ipython",
    "version": 3
   },
   "file_extension": ".py",
   "mimetype": "text/x-python",
   "name": "python",
   "nbconvert_exporter": "python",
   "pygments_lexer": "ipython3",
   "version": "3.7.3"
  }
 },
 "nbformat": 4,
 "nbformat_minor": 2
}
