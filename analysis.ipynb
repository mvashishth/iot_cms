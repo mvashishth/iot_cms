{
 "cells": [
  {
   "cell_type": "code",
   "execution_count": 47,
   "metadata": {},
   "outputs": [],
   "source": [
    "import matplotlib.pyplot as plt\n",
    "import numpy as np\n",
    "import pandas as pd\n",
    "from scipy.fftpack import fft"
   ]
  },
  {
   "cell_type": "code",
   "execution_count": 62,
   "metadata": {},
   "outputs": [
    {
     "name": "stdout",
     "output_type": "stream",
     "text": [
      "      Unnamed: 0                          0\n",
      "0              0     1.78 1.36 -13.63 0.391\n",
      "1              1   -1.48 -0.24 -8.94 -0.391\n",
      "2              2   -0.68 -1.24 -9.56 -1.514\n",
      "3              3    0.44 -0.23 -9.49 -0.684\n",
      "4              4    -0.03 -0.25 -7.27 0.342\n",
      "5              5     0.50 -1.12 -9.37 0.977\n",
      "6              6     2.02 0.94 -10.80 0.244\n",
      "7              7    1.19 1.60 -10.14 -0.928\n",
      "8              8    0.32 0.42 -12.07 -1.123\n",
      "9              9   -2.01 -0.67 -9.40 -0.439\n",
      "10            10   -0.44 -0.93 -11.59 0.732\n",
      "11            11    1.51 -0.43 -11.56 0.391\n",
      "12            12    0.65 -0.35 -6.41 -0.293\n",
      "13            13   -0.09 -1.07 -7.50 -1.318\n",
      "14            14    2.85 2.00 -10.93 -0.684\n",
      "15            15     -1.01 0.58 -9.85 0.293\n",
      "16            16   -1.71 -1.03 -11.61 1.172\n",
      "17            17     0.50 0.30 -11.88 0.342\n",
      "18            18    1.06 0.26 -10.86 -1.025\n",
      "19            19   -0.17 -1.34 -7.33 -1.172\n",
      "20            20     0.59 0.20 -7.16 -0.488\n",
      "21            21     1.22 0.20 -10.65 0.684\n",
      "22            22     1.81 0.46 -11.67 0.586\n",
      "23            23    -0.73 0.43 -8.76 -0.049\n",
      "24            24    0.41 0.11 -11.43 -1.221\n",
      "25            25    0.89 0.48 -12.41 -0.732\n",
      "26            26    -1.09 -0.56 -8.51 0.146\n",
      "27            27    -0.03 -1.30 -8.88 1.123\n",
      "28            28     2.59 0.88 -11.01 0.195\n",
      "29            29     1.13 0.52 -7.25 -0.879\n",
      "...          ...                        ...\n",
      "2970        2970  -0.42 -1.34 -11.30 -1.318\n",
      "2971        2971   0.52 -0.76 -10.36 -0.488\n",
      "2972        2972      2.81 0.54 -9.10 0.635\n",
      "2973        2973      2.95 1.17 -9.86 0.586\n",
      "2974        2974     -1.11 0.11 -7.14 0.098\n",
      "2975        2975  -0.51 -0.34 -11.46 -1.123\n",
      "2976        2976    1.28 0.92 -13.59 -0.830\n",
      "2977        2977     -1.28 0.11 -9.66 0.098\n",
      "2978        2978    -0.22 -1.23 -8.86 1.025\n",
      "2979        2979    0.96 -0.23 -10.17 0.342\n",
      "2980        2980    0.28 -0.18 -7.14 -0.684\n",
      "2981        2981    0.26 -0.91 -9.89 -1.465\n",
      "2982        2982    1.12 0.72 -10.64 -0.586\n",
      "2983        2983     1.12 1.14 -10.89 0.537\n",
      "2984        2984    -0.35 0.05 -11.60 0.732\n",
      "2985        2985    -2.12 -0.68 -8.02 0.098\n",
      "2986        2986   0.17 -0.82 -11.37 -1.123\n",
      "2987        2987   1.13 -0.71 -11.99 -0.830\n",
      "2988        2988    0.60 -0.23 -6.53 -0.098\n",
      "2989        2989      1.83 0.16 -9.10 0.928\n",
      "2990        2990     2.97 2.25 -10.75 0.342\n",
      "2991        2991   -0.43 0.89 -10.12 -0.635\n",
      "2992        2992  -2.23 -1.71 -11.49 -1.416\n",
      "2993        2993    0.20 0.11 -11.17 -0.635\n",
      "2994        2994    1.22 -0.03 -11.20 0.488\n",
      "2995        2995     0.40 -1.33 -8.11 0.830\n",
      "2996        2996     0.11 -0.08 -6.14 0.195\n",
      "2997        2997     1.11 0.57 -9.63 -1.025\n",
      "2998        2998    2.11 1.03 -12.50 -0.830\n",
      "2999        2999    -0.52 0.41 -8.84 -0.293\n",
      "\n",
      "[3000 rows x 2 columns]\n"
     ]
    }
   ],
   "source": [
    "df=pd.read_csv(\"file_time_12.268861_creation_date_2019-04-09 12:36:52.624473.csv\")\n",
    "print(df)"
   ]
  },
  {
   "cell_type": "code",
   "execution_count": 63,
   "metadata": {},
   "outputs": [],
   "source": [
    "df= df.reset_index(drop=True)"
   ]
  },
  {
   "cell_type": "code",
   "execution_count": 64,
   "metadata": {},
   "outputs": [],
   "source": [
    " df['A'], df['B'],df['C'], df['D'] = zip(*df['0'].map(lambda x: x.split(' ')))"
   ]
  },
  {
   "cell_type": "code",
   "execution_count": 65,
   "metadata": {},
   "outputs": [
    {
     "data": {
      "text/plain": [
       "0            \n",
       "1       -1.48\n",
       "2       -0.68\n",
       "3        0.44\n",
       "4       -0.03\n",
       "5        0.50\n",
       "6        2.02\n",
       "7        1.19\n",
       "8        0.32\n",
       "9       -2.01\n",
       "10      -0.44\n",
       "11       1.51\n",
       "12       0.65\n",
       "13      -0.09\n",
       "14       2.85\n",
       "15      -1.01\n",
       "16      -1.71\n",
       "17       0.50\n",
       "18       1.06\n",
       "19      -0.17\n",
       "20       0.59\n",
       "21       1.22\n",
       "22       1.81\n",
       "23      -0.73\n",
       "24       0.41\n",
       "25       0.89\n",
       "26      -1.09\n",
       "27      -0.03\n",
       "28       2.59\n",
       "29       1.13\n",
       "        ...  \n",
       "2970    -0.42\n",
       "2971     0.52\n",
       "2972     2.81\n",
       "2973     2.95\n",
       "2974    -1.11\n",
       "2975    -0.51\n",
       "2976     1.28\n",
       "2977    -1.28\n",
       "2978    -0.22\n",
       "2979     0.96\n",
       "2980     0.28\n",
       "2981     0.26\n",
       "2982     1.12\n",
       "2983     1.12\n",
       "2984    -0.35\n",
       "2985    -2.12\n",
       "2986     0.17\n",
       "2987     1.13\n",
       "2988     0.60\n",
       "2989     1.83\n",
       "2990     2.97\n",
       "2991    -0.43\n",
       "2992    -2.23\n",
       "2993     0.20\n",
       "2994     1.22\n",
       "2995     0.40\n",
       "2996     0.11\n",
       "2997     1.11\n",
       "2998     2.11\n",
       "2999    -0.52\n",
       "Name: A, Length: 3000, dtype: object"
      ]
     },
     "execution_count": 65,
     "metadata": {},
     "output_type": "execute_result"
    }
   ],
   "source": [
    "df['A']"
   ]
  },
  {
   "cell_type": "code",
   "execution_count": 20,
   "metadata": {},
   "outputs": [
    {
     "data": {
      "text/plain": [
       "0       -0.635\n",
       "1        0.195\n",
       "2        1.123\n",
       "3        0.244\n",
       "4       -0.928\n",
       "5       -1.416\n",
       "6       -0.586\n",
       "7        0.635\n",
       "8        0.586\n",
       "9       -0.049\n",
       "10      -1.221\n",
       "11      -0.781\n",
       "12       0.049\n",
       "13       1.074\n",
       "14       0.342\n",
       "15      -0.781\n",
       "16      -1.611\n",
       "17      -0.635\n",
       "18       0.439\n",
       "19       0.781\n",
       "20       0.098\n",
       "21      -1.025\n",
       "22      -0.879\n",
       "23      -0.244\n",
       "24       0.928\n",
       "25       0.342\n",
       "26      -0.684\n",
       "27      -1.562\n",
       "28      -0.635\n",
       "29       0.488\n",
       "         ...  \n",
       "2970    -0.732\n",
       "2971     0.293\n",
       "2972     1.123\n",
       "2973     0.195\n",
       "2974    -0.879\n",
       "2975    -1.172\n",
       "2976    -0.391\n",
       "2977     0.684\n",
       "2978     0.537\n",
       "2979    -0.342\n",
       "2980    -1.367\n",
       "2981    -0.635\n",
       "2982     0.342\n",
       "2983     1.221\n",
       "2984     0.146\n",
       "2985    -0.879\n",
       "2986    -1.318\n",
       "2987    -0.537\n",
       "2988     0.684\n",
       "2989     0.488\n",
       "2990    -0.098\n",
       "2991    -1.221\n",
       "2992    -0.684\n",
       "2993     0.098\n",
       "2994     1.025\n",
       "2995     0.293\n",
       "2996    -0.928\n",
       "2997    -1.465\n",
       "2998    -0.537\n",
       "2999     0.586\n",
       "Name: D, Length: 3000, dtype: object"
      ]
     },
     "execution_count": 20,
     "metadata": {},
     "output_type": "execute_result"
    }
   ],
   "source": [
    "df['D']"
   ]
  },
  {
   "cell_type": "code",
   "execution_count": 23,
   "metadata": {},
   "outputs": [
    {
     "data": {
      "image/png": "[encoded data removed]",
      "text/plain": [
       "<Figure size 432x288 with 1 Axes>"
      ]
     },
     "metadata": {
      "needs_background": "light"
     },
     "output_type": "display_data"
    }
   ],
   "source": [
    "freq = np.linspace(0,10.7,3000)\n"
   ]
  },
  {
   "cell_type": "code",
   "execution_count": 51,
   "metadata": {
    "scrolled": false
   },
   "outputs": [],
   "source": [
    "df['A'] = df['A'].astype(float).fillna(0.0)"
   ]
  },
  {
   "cell_type": "code",
   "execution_count": 66,
   "metadata": {},
   "outputs": [],
   "source": [
    "Y= fft(df['B'])"
   ]
  },
  {
   "cell_type": "code",
   "execution_count": 13,
   "metadata": {},
   "outputs": [],
   "source": []
  },
  {
   "cell_type": "code",
   "execution_count": 67,
   "metadata": {},
   "outputs": [
    {
     "data": {
      "text/plain": [
       "[<matplotlib.lines.Line2D at 0x7f41f4dc0550>]"
      ]
     },
     "execution_count": 67,
     "metadata": {},
     "output_type": "execute_result"
    },
    {
     "data": {
      "image/png": "[encoded data removed]",
      "text/plain": [
       "<Figure size 432x288 with 1 Axes>"
      ]
     },
     "metadata": {
      "needs_background": "light"
     },
     "output_type": "display_data"
    }
   ],
   "source": [
    "plt.plot(abs(Y))"
   ]
  },
  {
   "cell_type": "code",
   "execution_count": 27,
   "metadata": {},
   "outputs": [
    {
     "data": {
      "text/plain": [
       "[<matplotlib.lines.Line2D at 0x7f41f5104f28>]"
      ]
     },
     "execution_count": 27,
     "metadata": {},
     "output_type": "execute_result"
    },
    {
     "data": {
      "image/png": "[encoded data removed]",
      "text/plain": [
       "<Figure size 432x288 with 1 Axes>"
      ]
     },
     "metadata": {
      "needs_background": "light"
     },
     "output_type": "display_data"
    }
   ],
   "source": [
    "plt.plot(abs(Y))"
   ]
  },
  {
   "cell_type": "code",
   "execution_count": 44,
   "metadata": {},
   "outputs": [
    {
     "data": {
      "text/plain": [
       "[<matplotlib.lines.Line2D at 0x7f6657abeb38>]"
      ]
     },
     "execution_count": 44,
     "metadata": {},
     "output_type": "execute_result"
    },
    {
     "data": {
      "image/png": "[encoded data removed]",
      "text/plain": [
       "<Figure size 432x288 with 1 Axes>"
      ]
     },
     "metadata": {
      "needs_background": "light"
     },
     "output_type": "display_data"
    }
   ],
   "source": [
    "plt.plot(abs(Y))"
   ]
  },
  {
   "cell_type": "code",
   "execution_count": 50,
   "metadata": {},
   "outputs": [
    {
     "data": {
      "text/plain": [
       "[<matplotlib.lines.Line2D at 0x7f6657a0d320>]"
      ]
     },
     "execution_count": 50,
     "metadata": {},
     "output_type": "execute_result"
    },
    {
     "data": {
      "image/png": "[encoded data removed]",
      "text/plain": [
       "<Figure size 432x288 with 1 Axes>"
      ]
     },
     "metadata": {
      "needs_background": "light"
     },
     "output_type": "display_data"
    }
   ],
   "source": [
    "plt.plot(abs(Y))"
   ]
  },
  {
   "cell_type": "code",
   "execution_count": null,
   "metadata": {},
   "outputs": [],
   "source": []
  }
 ],
 "metadata": {
  "kernelspec": {
   "display_name": "Python 3",
   "language": "python",
   "name": "python3"
  },
  "language_info": {
   "codemirror_mode": {
    "name": "ipython",
    "version": 3
   },
   "file_extension": ".py",
   "mimetype": "text/x-python",
   "name": "python",
   "nbconvert_exporter": "python",
   "pygments_lexer": "ipython3",
   "version": "3.5.2"
  }
 },
 "nbformat": 4,
 "nbformat_minor": 2
}
